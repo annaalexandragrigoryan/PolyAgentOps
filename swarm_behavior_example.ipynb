{
 "cells": [
  {
   "cell_type": "markdown",
   "metadata": {},
   "source": [
    "# Swarm Behavior Cloning: Multi-Agent Coordination Example"
   ]
  },
  {
   "cell_type": "markdown",
   "metadata": {},
   "source": [
    "## Overview\n",
    "\n",
    "This code implements a Swarm Behavior Cloning (Swarm BC) system for a travel planning workflow. It demonstrates how multiple agents (e.g., Weather Expert, Flight Advisor) are trained and coordinated to provide a cohesive travel plan.\n",
    "\n",
    "The workflow uses embeddings, neural networks, and GPT-4o for text generation and aggregation. Here’s the annotated code with explanations."
   ]
  },
  {
   "cell_type": "markdown",
   "metadata": {},
   "source": [
    "### Import Libraries and Setup"
   ]
  },
  {
   "cell_type": "code",
   "execution_count": 1,
   "metadata": {},
   "outputs": [],
   "source": [
    "#!pip install openai numpy sentence-transformers tf-keras tensorflow keras"
   ]
  },
  {
   "cell_type": "code",
   "execution_count": 2,
   "metadata": {},
   "outputs": [
    {
     "name": "stderr",
     "output_type": "stream",
     "text": [
      "/Users/anna/Projects/PolyAgentOps/venv/lib/python3.9/site-packages/tqdm/auto.py:21: TqdmWarning: IProgress not found. Please update jupyter and ipywidgets. See https://ipywidgets.readthedocs.io/en/stable/user_install.html\n",
      "  from .autonotebook import tqdm as notebook_tqdm\n"
     ]
    }
   ],
   "source": [
    "import numpy as np\n",
    "import tensorflow as tf\n",
    "from tensorflow.keras import layers, models\n",
    "from openai import OpenAI\n",
    "import os\n",
    "import logging\n",
    "from sentence_transformers import SentenceTransformer\n",
    "import json"
   ]
  },
  {
   "cell_type": "markdown",
   "metadata": {},
   "source": [
    "### API Key Setup"
   ]
  },
  {
   "cell_type": "code",
   "execution_count": null,
   "metadata": {},
   "outputs": [],
   "source": [
    "# Set up OpenAI API key (replace with your own key)\n",
    "os.environ['OPENAI_API_KEY'] = 'YOUR_API_KEY'"
   ]
  },
  {
   "cell_type": "markdown",
   "metadata": {},
   "source": [
    "### Define the Embeddings Model and Syntax to call Open Ai"
   ]
  },
  {
   "cell_type": "code",
   "execution_count": 4,
   "metadata": {},
   "outputs": [],
   "source": [
    "client = OpenAI()\n",
    "\n",
    "def call_openai_chat(agent_name, system_prompt, user_query, client):\n",
    "    completion = client.chat.completions.create(\n",
    "        model=\"gpt-4o\",\n",
    "        messages=[\n",
    "            {\"role\": \"system\", \"content\": f\"You are {agent_name}, an expert in {system_prompt}.\"},\n",
    "            {\"role\": \"user\", \"content\": user_query}\n",
    "        ]\n",
    "    )\n",
    "    print(completion.choices[0].message.content)\n",
    "\n",
    "    return completion.choices[0].message.content\n"
   ]
  },
  {
   "cell_type": "code",
   "execution_count": 5,
   "metadata": {},
   "outputs": [],
   "source": [
    "# Initialize embedding model\n",
    "embedding_model = SentenceTransformer('sentence-transformers/all-MiniLM-L6-v2')"
   ]
  },
  {
   "cell_type": "markdown",
   "metadata": {},
   "source": [
    "### Define Agent Tasks and Initialization"
   ]
  },
  {
   "cell_type": "code",
   "execution_count": 6,
   "metadata": {},
   "outputs": [],
   "source": [
    "# Define task-specific travel agents\n",
    "agents_info = {\n",
    "    \"Weather Expert\": \"providing weather forecasts and climate guidance\",\n",
    "    \"Flight Advisor\": \"finding optimal flights and itineraries\",\n",
    "    \"Budget Planner\": \"creating a comprehensive travel budget\",\n",
    "    \"Sightseeing Guide\": \"suggesting cultural and historical attractions\",\n",
    "    \"Accommodation Expert\": \"booking the best hotels and stays\",\n",
    "    \"Dining Consultant\": \"recommending top restaurants and dining experiences\"\n",
    "}"
   ]
  },
  {
   "cell_type": "markdown",
   "metadata": {},
   "source": [
    "### Neural Network Model for Agents"
   ]
  },
  {
   "cell_type": "code",
   "execution_count": 7,
   "metadata": {},
   "outputs": [],
   "source": [
    "# Create a neural network model for agents\n",
    "def create_agent(input_dim, output_dim):\n",
    "    model = models.Sequential([\n",
    "        layers.Dense(256, activation='relu', input_shape=(input_dim,)),\n",
    "        layers.Dropout(0.3),\n",
    "        layers.Dense(256, activation='relu'),\n",
    "        layers.Dense(output_dim, activation='sigmoid')  # Ensure output is between 0 and 1\n",
    "    ])\n",
    "    return model"
   ]
  },
  {
   "cell_type": "markdown",
   "metadata": {},
   "source": [
    "### Initialize Agents and Optimizers"
   ]
  },
  {
   "cell_type": "code",
   "execution_count": 8,
   "metadata": {},
   "outputs": [],
   "source": [
    "# Initialize agents\n",
    "num_agents = len(agents_info)\n",
    "input_dim = 384  # Sentence Transformer output size\n",
    "output_dim = 4  # Output prediction vector"
   ]
  },
  {
   "cell_type": "code",
   "execution_count": 9,
   "metadata": {},
   "outputs": [
    {
     "name": "stderr",
     "output_type": "stream",
     "text": [
      "/Users/anna/Projects/PolyAgentOps/venv/lib/python3.9/site-packages/keras/src/layers/core/dense.py:87: UserWarning: Do not pass an `input_shape`/`input_dim` argument to a layer. When using Sequential models, prefer using an `Input(shape)` object as the first layer in the model instead.\n",
      "  super().__init__(activity_regularizer=activity_regularizer, **kwargs)\n"
     ]
    }
   ],
   "source": [
    "# Define models and optimizers\n",
    "agents = {task: create_agent(input_dim, output_dim) for task in agents_info}\n",
    "optimizers = {task: tf.keras.optimizers.Adam(learning_rate=0.0005) for task in agents_info}\n"
   ]
  },
  {
   "cell_type": "code",
   "execution_count": 10,
   "metadata": {},
   "outputs": [],
   "source": [
    "# Define the Swarm BC loss function\n",
    "loss_fn = tf.keras.losses.MeanSquaredError()"
   ]
  },
  {
   "cell_type": "markdown",
   "metadata": {},
   "source": [
    "### Swarm BC Loss Function"
   ]
  },
  {
   "cell_type": "code",
   "execution_count": 11,
   "metadata": {},
   "outputs": [],
   "source": [
    "\n",
    "def swarm_bc_loss(predictions, targets, agents_outputs):\n",
    "    prediction_loss = loss_fn(predictions, targets)\n",
    "    regularization_loss = sum(\n",
    "        tf.reduce_mean(tf.square(a_i - a_j))\n",
    "        for i, a_i in enumerate(agents_outputs)\n",
    "        for j, a_j in enumerate(agents_outputs) if i < j\n",
    "    )\n",
    "    return prediction_loss + 0.1 * regularization_loss\n"
   ]
  },
  {
   "cell_type": "markdown",
   "metadata": {},
   "source": [
    "### Convert Text to Embeddings & Generate Synthetic Travel Scenarios"
   ]
  },
  {
   "cell_type": "code",
   "execution_count": 12,
   "metadata": {},
   "outputs": [],
   "source": [
    "# Convert text responses to embeddings\n",
    "def map_response_to_embedding(response_text):\n",
    "    return embedding_model.encode(response_text)\n",
    "\n",
    "# Generate synthetic travel scenarios\n",
    "def generate_synthetic_states(num_samples):\n",
    "    destinations = [\"Kyoto\", \"Paris\", \"Rome\", \"Barcelona\", \"New York\"]\n",
    "    seasons = [\"Spring\", \"Summer\", \"Autumn\", \"Winter\"]\n",
    "    budgets = [1000, 2000, 3000, 4000, 5000]\n",
    "    interests = [\"history\", \"art\", \"food\", \"nature\", \"adventure\"]\n",
    "\n",
    "    states = []\n",
    "    targets = []\n",
    "\n",
    "    for _ in range(num_samples):\n",
    "        destination = np.random.choice(destinations)\n",
    "        season = np.random.choice(seasons)\n",
    "        budget = np.random.choice(budgets)\n",
    "        interest1 = np.random.choice(interests)\n",
    "        interest2 = np.random.choice(interests)\n",
    "        days = np.random.randint(3, 15)\n",
    "\n",
    "        trip_description = (\n",
    "            f\"Plan a trip to {destination} in {season} with a budget of {budget} USD for {days} days. \"\n",
    "            f\"Focus on {interest1} and {interest2}.\"\n",
    "        )\n",
    "\n",
    "        state_vector = map_response_to_embedding(trip_description)\n",
    "        target_vector = np.array([budget / 5000, days / 15, np.random.rand(), np.random.rand()])\n",
    "\n",
    "        states.append(state_vector)\n",
    "        targets.append(target_vector)\n",
    "\n",
    "    return np.array(states), np.array(targets)"
   ]
  },
  {
   "cell_type": "markdown",
   "metadata": {},
   "source": [
    "### Aggregation Prompt Construction"
   ]
  },
  {
   "cell_type": "code",
   "execution_count": 13,
   "metadata": {},
   "outputs": [],
   "source": [
    "\n",
    "# Construct the dynamic aggregation prompt\n",
    "def construct_prompt(original_query, agent_responses, aggregated_predictions):\n",
    "    scaled = {\n",
    "        \"Budget Fit\": aggregated_predictions[0],\n",
    "        \"Duration Suitability\": aggregated_predictions[1],\n",
    "        \"Cultural Relevance\": aggregated_predictions[2],\n",
    "        \"Comfort Level\": aggregated_predictions[3]\n",
    "    }\n",
    "\n",
    "    responses_formatted = json.dumps(agent_responses, indent=2)\n",
    "\n",
    "    return f\"\"\"\n",
    "    Original Query: \"{original_query}\"\n",
    "\n",
    "    Agent Responses:\n",
    "    {responses_formatted}\n",
    "\n",
    "    Aggregated Predictions (Scaled 0-1):\n",
    "    - Budget Fit: {scaled['Budget Fit']:.2f}\n",
    "    - Duration Suitability: {scaled['Duration Suitability']:.2f}\n",
    "    - Cultural Relevance: {scaled['Cultural Relevance']:.2f}\n",
    "    - Comfort Level: {scaled['Comfort Level']:.2f}\n",
    "\n",
    "    Generate a comprehensive plan that addresses these points and refine the travel plan accordingly.\n",
    "    \"\"\"\n"
   ]
  },
  {
   "cell_type": "markdown",
   "metadata": {},
   "source": [
    "### Training and Inference"
   ]
  },
  {
   "cell_type": "code",
   "execution_count": 14,
   "metadata": {},
   "outputs": [
    {
     "name": "stdout",
     "output_type": "stream",
     "text": [
      "Epoch 0: Loss = 0.0605\n",
      "Epoch 100: Loss = 0.0000\n",
      "Epoch 200: Loss = 0.0000\n",
      "Epoch 300: Loss = 0.0000\n",
      "Epoch 400: Loss = 0.0000\n",
      "Epoch 500: Loss = 0.0000\n",
      "Epoch 600: Loss = 0.0000\n",
      "Epoch 700: Loss = 0.0000\n",
      "Epoch 800: Loss = 0.0000\n",
      "Epoch 900: Loss = 0.0000\n"
     ]
    }
   ],
   "source": [
    "\n",
    "# Training loop\n",
    "num_epochs = 1000\n",
    "state, true_action = generate_synthetic_states(num_agents)\n",
    "\n",
    "for epoch in range(num_epochs):\n",
    "    agents_outputs = []\n",
    "    with tf.GradientTape(persistent=True) as tape:\n",
    "        for task, agent in agents.items():\n",
    "            agents_output = agent(state)\n",
    "            agents_outputs.append(agents_output)\n",
    "        avg_prediction = tf.reduce_mean(agents_outputs, axis=0)\n",
    "        loss = swarm_bc_loss(avg_prediction, true_action, agents_outputs)\n",
    "\n",
    "    for task, agent in agents.items():\n",
    "        gradients = tape.gradient(loss, agent.trainable_variables)\n",
    "        optimizers[task].apply_gradients(zip(gradients, agent.trainable_variables))\n",
    "\n",
    "    if epoch % 100 == 0:\n",
    "        print(f\"Epoch {epoch}: Loss = {loss.numpy():.4f}\")\n",
    "\n",
    "# Testing with API calls\n",
    "new_query = \"Plan a luxury trip to Venice with a focus on art, history, and fine dining.\"\n",
    "agent_responses = {}\n",
    "raw_outputs = {}"
   ]
  },
  {
   "cell_type": "markdown",
   "metadata": {},
   "source": [
    "### Final Plan"
   ]
  },
  {
   "cell_type": "code",
   "execution_count": 15,
   "metadata": {},
   "outputs": [
    {
     "name": "stdout",
     "output_type": "stream",
     "text": [
      "Planning a luxury trip to Venice with an emphasis on art, history, and fine dining can truly be an unforgettable experience. Here's a suggested itinerary that covers these key interests:\n",
      "\n",
      "### Day 1: Arrival and Luxury Accommodation\n",
      "**Morning:**\n",
      "- **Accommodation**: Check into the **Aman Venice**, a stunning hotel located in the Palazzo Papadopoli. It offers opulent rooms and suites with views of the Grand Canal.\n",
      "\n",
      "**Afternoon:**\n",
      "- **Relaxation**: Spend some time at the hotel spa to unwind after your journey.\n",
      "\n",
      "**Evening:**\n",
      "- **Dinner**: Dine at **Ristorante Quadri**, a Michelin-starred restaurant overlooking Piazza San Marco, where you can enjoy exquisite Venetian cuisine and a fine selection of wines.\n",
      "\n",
      "### Day 2: Art and Architecture\n",
      "**Morning:**\n",
      "- **Art Tour**: Start your day at the **Gallerie dell'Accademia**, home to masterpieces by Bellini, Canaletto, and Titian. Opt for a private guided tour for a personalized experience.\n",
      "\n",
      "**Afternoon:**\n",
      "- **Shopping and Exploration**: Walk along the Rialto Bridge and visit luxury boutiques. Have lunch at **Harry's Bar**, famous for its Bellini cocktails.\n",
      "\n",
      "**Evening:**\n",
      "- **Dinner**: Experience a sumptuous meal at **Oro Restaurant** at the Hotel Cipriani, another Michelin-starred venue known for its creative Italian dishes.\n",
      "\n",
      "### Day 3: Historical Exploration\n",
      "**Morning:**\n",
      "- **Visit to St. Mark’s Basilica and Doge’s Palace**: Explore the history of Venice with a private guide, ensuring special access to hidden rooms and the Bridge of Sighs.\n",
      "\n",
      "**Afternoon:**\n",
      "- **Lunch at Local Osteria**: Enjoy traditional Venetian dishes at **Osteria alle Testiere**, a small but renowned eatery known for its seafood.\n",
      "\n",
      "- **Artisan Experience**: Take a private Vaporetto to the island of Murano to witness glass-blowing artisans at work. Purchase exquisite glass pieces as souvenirs.\n",
      "\n",
      "**Evening:**\n",
      "- **Private Gondola Ride**: Arrange for a private gondola tour with Prosecco service, allowing you to relax and see the city in a magical setting.\n",
      "\n",
      "- **Dinner**: Conclude your evening with dinner at **Antiche Carampane**, where a rustic ambiance meets refined Venetian cooking.\n",
      "\n",
      "### Day 4: Contemporary Art and Departure\n",
      "**Morning:**\n",
      "- **Contemporary Art**: Visit the **Peggy Guggenheim Collection**, which features an array of modern masterpieces. Consider booking a private tour to gain in-depth insights into the collection.\n",
      "\n",
      "**Afternoon:**\n",
      "- **Lunch at Antico Martini**: An historic restaurant offering a refined atmosphere and traditional Venetian fare.\n",
      "\n",
      "- **Free Time for Last-minute Shopping**: Return to the hotel for a final break or spend some time shopping for luxury goods and artisanal crafts.\n",
      "\n",
      "**Evening:**\n",
      "- **Farewell Dinner**: Enjoy a farewell dinner at the **Venissa Estate** on the island of Mazzorbo, accessible by private water taxi. The unique venue combines a Michelin-starred dining experience with stunning vineyard surroundings.\n",
      "\n",
      "**Departure**: Conclude your trip and prepare for departure, either by way of the Venice Marco Polo Airport or the Venice Santa Lucia Railway Station, both accessible by private water taxi.\n",
      "\n",
      "This itinerary offers a balance of historical exploration, art immersion, and fine dining experiences, all wrapped in the luxury that Venice offers. Enjoy your trip!\n",
      "Planning a luxury trip to Venice with an emphasis on art, history, and fine dining is an exciting endeavor. Venice, with its rich cultural heritage and exquisite culinary scene, offers a perfect setting for such a trip. Let's outline an itinerary that includes flights, accommodations, art and history experiences, and fine dining options.\n",
      "\n",
      "### Flights:\n",
      "- **Departure City:** Depending on your location, look for a direct flight to Venice Marco Polo Airport (VCE). Major airlines such as Emirates, Qatar Airways, and Lufthansa offer premium services.\n",
      "- **Travel Class:** Opt for Business or First Class for a more comfortable experience.\n",
      "- **Transfer to City:** Arrange a private water taxi from the airport to your hotel for a stylish introduction to Venice.\n",
      "\n",
      "### Accommodations:\n",
      "- **Belmond Hotel Cipriani**: Located on Giudecca Island, this luxury hotel is renowned for its opulent decor, excellent service, and stunning lagoon views.\n",
      "- **Gritti Palace, a Luxury Collection Hotel**: Offers historical charm and a prime location on the Grand Canal, perfect for art and history enthusiasts.\n",
      "\n",
      "### Itinerary:\n",
      "\n",
      "#### Day 1: Arrival & Leisure\n",
      "- **Check-In**: Arrive at your accommodation and settle in. Enjoy a welcome cocktail at the hotel bar.\n",
      "- **Evening Stroll**: Explore St. Mark's Square and take in the early evening ambiance.\n",
      "- **Dinner**: Reserve a table at Quadri, an elegant Michelin-starred restaurant located in the square itself.\n",
      "\n",
      "#### Day 2: Art and History Exploration\n",
      "- **Morning**: Visit the Doge's Palace, a masterpiece of Gothic architecture that delves into the history of Venice.\n",
      "- **Afternoon**: Head to the Peggy Guggenheim Collection, showcasing modern masterpieces in a palatial setting.\n",
      "- **Evening**: Dinner at Osteria Da Fiore, which offers refined Venetian cuisine and high-end service.\n",
      "\n",
      "#### Day 3: Island Hopping and Fine Dining\n",
      "- **Morning**: Take a private boat tour to Murano and Burano. Explore Murano's glass workshops and Burano's colorful houses.\n",
      "- **Lunch**: Enjoy a seafood meal at Trattoria Al Gatto Nero on Burano.\n",
      "- **Evening**: Return to Venice for dinner at Ristorante Quadri, known for its inventive dishes and Grand Canal views.\n",
      "\n",
      "#### Day 4: Architecture and Culture\n",
      "- **Morning**: Explore the Basilica di San Marco, with its exquisite mosaics and history.\n",
      "- **Afternoon**: Visit the Palazzo Grassi, a contemporary art museum housed in a stunning 18th-century building.\n",
      "- **Evening**: Reserve a spot at Antiche Carampane for authentic Venetian fare in a charming setting.\n",
      "\n",
      "#### Day 5: Relaxation and Departure\n",
      "- **Morning**: Spend your last morning at leisure. Consider a relaxing gondola ride through the canals.\n",
      "- **Lunch**: Casual yet chic dining at Gelati Nico, where you can enjoy gelato along the Zattere promenade.\n",
      "- **Departure**: Arrange your private transfer to Marco Polo Airport for your return flight.\n",
      "\n",
      "### Fine Dining and Additional Experiences:\n",
      "- **Cooking Class**: Consider booking a private Venetian cooking class to learn about the region's culinary secrets.\n",
      "- **Private Art Tour**: Hire a local art historian for a personalized tour of lesser-known art spots.\n",
      "- **Spa Day**: Book a spa treatment at the JW Marriott Venice Spa on Isola delle Rose for a day of relaxation.\n",
      "\n",
      "With this itinerary, you'll experience the best of Venice's art, history, and fine dining in a luxurious fashion. Make sure to reserve your dining and experience bookings in advance to secure your preferred time slots. Enjoy your opulent Venetian escape!\n",
      "Certainly! Planning a luxury trip to Venice with a focus on art, history, and fine dining is an exciting venture. Below is a suggested itinerary along with a comprehensive budget guide to help you make the most of your luxurious experience.\n",
      "\n",
      "### Duration\n",
      "7 days and 6 nights\n",
      "\n",
      "### Accommodation\n",
      "- **Hotel:** The Gritti Palace, a Luxury Collection Hotel\n",
      "  - **Location:** Grand Canal\n",
      "  - **Cost:** Approximately €1,000 per night\n",
      "  - **Total for 6 nights:** €6,000\n",
      "\n",
      "### Transportation\n",
      "- **Flights:** Business class round trip from New York to Venice Marco Polo Airport\n",
      "  - **Cost:** Approximately €3,000 per person\n",
      "\n",
      "- **Transfers:** Private water taxi from Marco Polo Airport to the hotel\n",
      "  - **Cost:** €150 each way\n",
      "  - **Total:** €300\n",
      "\n",
      "- **Vaporetto (water bus) Pass:** 7-day pass for traveling around Venice\n",
      "  - **Cost:** €60 per person\n",
      "\n",
      "### Art and History Experiences\n",
      "1. **Doges' Palace & St. Mark's Basilica Private Tour**\n",
      "   - **Cost:** €300 per person\n",
      "\n",
      "2. **Gallerie dell'Accademia Followed by a Guided Tour of Peggy Guggenheim Collection**\n",
      "   - **Cost:** €200 per person\n",
      "\n",
      "3. **Visit to Glass Workshop in Murano and Lace Making in Burano**\n",
      "   - **Cost:** €250 per person\n",
      "\n",
      "4. **Essence of Venice Walking Tour, including Rialto Market and Jewish Ghetto**\n",
      "   - **Cost:** €150 per person\n",
      "\n",
      "5. **Opera Night at Teatro La Fenice**\n",
      "   - **Cost:** €200 per person, premium seats\n",
      "\n",
      "### Fine Dining\n",
      "1. **Ristorante Quadri (Michelin-starred)**\n",
      "   - **Cost:** €250 per person for a tasting menu with wine pairing\n",
      "\n",
      "2. **Da Fiore**\n",
      "   - **Cost:** €200 per person\n",
      "\n",
      "3. **Osteria Alle Testiere** (seafood focus)\n",
      "   - **Cost:** €150 per person\n",
      "\n",
      "4. **Enoteca Al Volto** (wine tasting and traditional cicchetti)\n",
      "   - **Cost:** €100 per person\n",
      "\n",
      "5. **Harry’s Bar**\n",
      "   - **Cost:** €150 per person, including signature Bellini cocktails\n",
      "\n",
      "### Additional Experiences\n",
      "1. **Gondola Ride on the Grand Canal**\n",
      "   - **Cost:** €120 for a private 45-minute ride\n",
      "\n",
      "2. **Personal Shopping Experience & Mask Making Workshop**\n",
      "   - **Cost:** €300 per person\n",
      "\n",
      "### Miscellaneous Expenses\n",
      "- **Luxury Travel Insurance:** €200 per person\n",
      "- **Daily Extras (souvenirs, tips):** €500 total\n",
      "- **Total Miscellaneous:** €700\n",
      "\n",
      "### Total Estimated Budget\n",
      "- **Accommodation:** €6,000\n",
      "- **Transportation (flight, transfers, vaporetto):** €3,360\n",
      "- **Art and History Experiences:** €1,100 per person\n",
      "- **Fine Dining:** €850 per person\n",
      "- **Additional Experiences:** €420\n",
      "- **Miscellaneous:** €700\n",
      "\n",
      "**Grand Total for One Person: Approximately €12,430**\n",
      "\n",
      "### Recommendations\n",
      "- **Time of Travel:** Late spring or early autumn for pleasant weather and fewer crowds.\n",
      "- **Booking Details:** Reserve opera tickets and restaurant bookings well in advance to ensure availability.\n",
      "- **Travel Insurance:** Strongly recommended for coverage in any unforeseen circumstances.\n",
      "\n",
      "This comprehensive budget and plan will ensure a richly indulgent experience, immersing you in Venice's art, history, and culinary elegance. Enjoy your trip!\n",
      "Planning a luxury trip to Venice with an emphasis on art, history, and fine dining is a magnificent endeavor, as the city offers a rich tapestry of experiences. Here is an itinerary that encapsulates the best of these interests:\n",
      "\n",
      "**Day 1: Arrival and Introduction to Venice**\n",
      "- **Accommodation**: Check into **Aman Venice**, a stunning 16th-century palazzo on the Grand Canal known for its opulent rooms and private gardens.\n",
      "- **Art Viewing**: Start with a visit to the **Gallerie dell’Accademia**, home to pre-19th-century masterpieces from painters like Bellini, Titian, and Veronese.\n",
      "- **Dinner**: Dine at **Quadri**, a Michelin-starred restaurant in St. Mark’s Square offering exquisite Venetian cuisine with stunning views of the Piazza.\n",
      "\n",
      "**Day 2: Exploring Venetian History**\n",
      "- **Morning**: Take a private guided tour of **Doge’s Palace**. Experience the grandeur of the palace and the rich history of Venice’s political heart.\n",
      "- **Lunch**: Enjoy a luxurious lunch at **Ristorante Carpacccio** at the Hotel Danieli, noted for its Venetian and Italian specialties.\n",
      "- **Afternoon**: Visit the **Correr Museum** to explore more of Venice's heritage, from aristocratic life to the naval history.\n",
      "- **Evening**: Have dinner at **Ristorante Quadri**, another Michelin-starred location, renowned for its contemporary take on Italian classics.\n",
      "\n",
      "**Day 3: Contemporary and Renaissance Art**\n",
      "- **Morning**: Head to the **Peggy Guggenheim Collection**, set in the heiress's former home on the Grand Canal. Marvel at the 20th-century pieces from Dalí, Picasso, and Pollock.\n",
      "- **Lunch**: Stop by the charming **Corte Sconta**, a hidden gem known for its exceptional seafood dishes.\n",
      "- **Afternoon**: Explore the **Scuola Grande di San Rocco** to see a breathtaking collection of Tintoretto paintings.\n",
      "- **Evening**: Dinner at **Ristorante Alle Corone**, where you can enjoy a gourmet experience featuring seasonal and elegant Venetian cuisine.\n",
      "\n",
      "**Day 4: Murano and Burano**\n",
      "- **Day Trip**: Take a private water taxi tour to the islands of **Murano** and **Burano**. Marvel at Murano’s glassmaking artistry and Burano’s vibrant lacework and colorful houses.\n",
      "- **Lunch**: Enjoy seafood at **Al Gatto Nero** on Burano, famous for its fresh and traditional dishes.\n",
      "- **Return**: Head back to Venice for a relaxing evening.\n",
      "- **Dinner**: End your trip with an indulgent meal at **Osteria Francescana** by the Rialto, celebrated for innovative menus that blend tradition with modern flair.\n",
      "\n",
      "**Day 5: Departure**\n",
      "- **Morning**: Take a leisurely gondola ride through the lesser-known canals for a quiet farewell to Venice.\n",
      "- **Farewell Brunch**: Enjoy a brunch at the **Hotel Cipriani's Cip's Club**, offering spectacular views of the cityscape from the Giudecca.\n",
      "\n",
      "Throughout your stay, consider hiring private guides for deeper insights into Venice’s artistic treasures and history, ensuring a comprehensive and personal understanding of the city’s wonders. Be sure to make reservations well in advance, as these luxurious experiences are highly sought after.\n",
      "Planning a luxury trip to Venice with a focus on art, history, and fine dining promises a memorable experience. Here's a suggested itinerary:\n",
      "\n",
      "### Accommodation:\n",
      "- **Aman Venice**\n",
      "  - Housed in a grand 16th-century palazzo, this hotel exudes luxury with its frescoed interiors, beautiful gardens, and views of the Grand Canal. \n",
      "  - Consider booking one of their suites for added elegance and comfort.\n",
      "\n",
      "### Day 1: Arrival and Introduction to Venetian Art\n",
      "- **Morning:** Arrive at the Marco Polo Airport and take a private water taxi to your hotel to enjoy the magical arrival directly on the canal.\n",
      "- **Afternoon:** \n",
      "  - **Peggy Guggenheim Collection**: This is one of Europe's most prestigious museums for modern art. Explore works by Picasso, Pollock, and Dalí.\n",
      "- **Evening:**\n",
      "  - **Dinner at Ristorante Quadri**: Located in Piazza San Marco, this Michelin-starred restaurant offers a contemporary take on traditional Venetian recipes.\n",
      "\n",
      "### Day 2: History and Heritage\n",
      "- **Morning:**\n",
      "  - **Doge’s Palace and Basilica di San Marco**: Explore these iconic landmarks on a private guided tour to delve deep into Venetian history and art.\n",
      "- **Lunch:** \n",
      "  - **Caffè Florian**: Savor a light lunch or coffee at one of the oldest and most famous cafes in Europe, in the stunning setting of Piazza San Marco.\n",
      "- **Afternoon:**\n",
      "  - **Gallerie dell'Accademia**: Home to an exceptional collection of Venetian painting, from the Byzantine period to the 18th century.\n",
      "- **Evening:**\n",
      "  - **Dinner at Oro Restaurant** at Belmond Hotel Cipriani: Enjoy fine dining in a spectacular setting with views across the lagoon.\n",
      "\n",
      "### Day 3: Exploring Beyond the Typical\n",
      "- **Morning:**\n",
      "  - **Island of Murano**: Take a private boat tour to the island known for its glass-making traditions. Visit a glass factory to see artisans at work.\n",
      "- **Lunch:**\n",
      "  - **Trattoria alla Madonna**: Return to the main islands for a classic Venetian lunch with seafood specialties.\n",
      "- **Afternoon:**\n",
      "  - **Venetian Artisans Tour**: Engage in a personalized tour of Venetian crafts, including mask makers and textile weavers.\n",
      "- **Evening:**\n",
      "  - **Dinner at Antiche Carampane**: Hidden in the heart of Venice, this restaurant offers an authentic and upscale take on local dishes.\n",
      "\n",
      "### Day 4: Culinary Exploration and Relaxation\n",
      "- **Morning:**\n",
      "  - **Rialto Market Tour and Cooking Class**: Start your day with a private guided tour of the famous Rialto Market and follow this with a cooking class to learn how to prepare Venetian dishes.\n",
      "- **Lunch:** Enjoy the meal you've prepared during the class.\n",
      "- **Afternoon:**\n",
      "  - **Relax and Rejuvenate**: Return to your hotel for a relaxing afternoon at the spa, or enjoy a private gondola ride.\n",
      "- **Evening:**\n",
      "  - **Dinner at Il Ridotto**: This one-Michelin-star restaurant takes pride in its creative approach to local ingredients.\n",
      "\n",
      "### Day 5: Departure\n",
      "- **Morning:** Depending on your flight time, enjoy a leisurely breakfast at the hotel and perhaps a final stroll through the enchanting streets of Venice.\n",
      "- **Transfer:** Take a private water taxi back to Marco Polo Airport for your departure.\n",
      "\n",
      "### Tips:\n",
      "- **Book in Advance:** Luxury accommodations and fine dining spots in Venice fill up quickly, so make sure to book everything in advance.\n",
      "- **Local Guides:** Consider hiring private guides for a more personalized experience, giving you deeper insights into the art and history of Venice.\n",
      "- **Dress Code:** Some fine dining restaurants in Venice have a dress code, so pack accordingly.\n",
      "\n",
      "Enjoy your luxurious journey through Venice, enriched with art, history, and culinary delights!\n",
      "Planning a luxury trip to Venice with a focus on art, history, and fine dining promises an unforgettable experience in one of the world’s most captivating cities. Here's a curated itinerary to ensure you experience the best Venice has to offer:\n",
      "\n",
      "### Day 1: Arrival and Introduction to Venice\n",
      "- **Morning:**\n",
      "  - **Arrive at Marco Polo Airport** and take a private water taxi to your hotel. Recommended luxury accommodations include **Aman Venice** or **The Gritti Palace**, both offering opulent settings and prime locations.\n",
      "- **Afternoon:**\n",
      "  - **Lunch:** Dine at **Ristorante Quadri**, overlooking Piazza San Marco, for a taste of Venetian and international cuisine.\n",
      "  - **Activity:** Begin with a private guided tour of **St. Mark’s Basilica** and the **Doge’s Palace**. This tour will give you insight into the rich history of Venice’s architecture and political past.\n",
      "- **Evening:**\n",
      "  - **Dinner:** Savor a Venetian fine dining experience at **Oro Restaurant** inside the iconic Belmond Hotel Cipriani.\n",
      "  - **Relaxation:** Enjoy a peaceful gondola ride at sunset through the historic canals of Venice.\n",
      "\n",
      "### Day 2: Art and Culture Exploration\n",
      "- **Morning:**\n",
      "  - **Activity:** Visit the **Peggy Guggenheim Collection** to see masterpieces of modern art featuring works by Picasso, Dalí, and Pollock.\n",
      "  - **Lunch:** Head to **Antiche Carampane**, known for its fresh seafood and traditional Venetian dishes.\n",
      "- **Afternoon:**\n",
      "  - **Activity:** Explore the **Gallerie dell'Accademia**, home to Venetian paintings from the 14th to 18th centuries.\n",
      "  - **Shopping:** Stroll through the upscale boutiques around Piazza San Marco or visit **Calle Larga XXII Marzo** for luxury fashion.\n",
      "- **Evening:**\n",
      "  - **Dinner:** Experience a taste of Michelin-starred excellence at **Quadri** with a menu designed by Max Alajmo.\n",
      "  - **Nightcap:** Enjoy a cocktail or glass of wine at the elegant rooftop bar, **Terrazza Danieli**, offering breathtaking views of Venice.\n",
      "\n",
      "### Day 3: Historical Discoveries and Island Excursion\n",
      "- **Morning:**\n",
      "  - **Activity:** Take a private boat tour to the nearby islands of **Murano and Burano**. Discover Murano’s renowned glassmaking workshops and the colorful charm of Burano’s fisherman’s houses.\n",
      "- **Lunch:** Dine at **Venissa** on the island of Mazzorbo for a unique culinary experience that embraces farm-to-table philosophy.\n",
      "- **Afternoon:**\n",
      "  - **Activity:** Return to Venice and visit the **Frari Church**, home to masterpieces by Titian and Bellini. For a different perspective, sip coffee in peace at **Caffè Florian**, one of the oldest cafes in the world.\n",
      "- **Evening:**\n",
      "  - **Dinner:** Enjoy a romantic dinner at **Ristorante Glam**, where Chef Enrico Bartolini offers a modern take on Venetian traditions within a 2-star Michelin framework.\n",
      "  - **Entertainment:** Attend an opera or classical concert at **La Fenice Opera House**, an iconic symbol of Venice’s rich musical heritage.\n",
      "\n",
      "### Day 4: Departure and Leisure\n",
      "- **Morning:**\n",
      "  - **Activity:** Spend the morning at **Punta della Dogana**, the contemporary art space of the François Pinault Foundation.\n",
      "- **Lunch:** Enjoy a leisurely lunch at **Corte Sconta**, celebrated for its seafood antipasti in a charming vine-covered courtyard.\n",
      "- **Afternoon:**\n",
      "  - **Leisure:** Relax with a final stroll or a private shopping experience led by a personal shopper.\n",
      "- **Departure:**\n",
      "  - Return to the airport via private water taxi, forever enchanted by the city of Venice.\n",
      "\n",
      "This itinerary balances art, history, and luxury dining, offering a sumptuous and culturally rich Venetian experience. Advance reservations, especially for dining and guided tours, are highly recommended to ensure a seamless and indulgent journey.\n"
     ]
    }
   ],
   "source": [
    "for agent_name, task_description in agents_info.items():\n",
    "    agent_response = call_openai_chat(agent_name, task_description, new_query, client)\n",
    "    agent_embedding = map_response_to_embedding(agent_response)\n",
    "    agent_model = agents[agent_name]\n",
    "    raw_output = agent_model(agent_embedding.reshape(1, -1)).numpy().flatten().tolist()\n",
    "    agent_responses[agent_name] = {\n",
    "        \"response\": agent_response,\n",
    "        \"raw_output\": raw_output\n",
    "    }\n",
    "    raw_outputs[agent_name] = raw_output"
   ]
  },
  {
   "cell_type": "code",
   "execution_count": 16,
   "metadata": {},
   "outputs": [],
   "source": [
    "# Weighted Aggregation\n",
    "weights = {\n",
    "    \"Weather Expert\": np.array([0.2, 0.3, 0.1, 0.4]),\n",
    "    \"Flight Advisor\": np.array([0.4, 0.3, 0.2, 0.1]),\n",
    "    \"Budget Planner\": np.array([0.5, 0.2, 0.1, 0.2]),\n",
    "    \"Sightseeing Guide\": np.array([0.2, 0.4, 0.3, 0.1]),\n",
    "    \"Accommodation Expert\": np.array([0.3, 0.2, 0.1, 0.4]),\n",
    "    \"Dining Consultant\": np.array([0.1, 0.2, 0.5, 0.2])\n",
    "}"
   ]
  },
  {
   "cell_type": "code",
   "execution_count": 17,
   "metadata": {},
   "outputs": [],
   "source": [
    "\n",
    "aggregated_prediction = np.zeros(4)\n",
    "total_weight = np.zeros(4)\n",
    "\n",
    "for task, prediction in raw_outputs.items():\n",
    "    weight = weights[task]\n",
    "    aggregated_prediction += np.array(prediction) * weight\n",
    "    total_weight += weight\n",
    "\n",
    "aggregated_prediction /= total_weight"
   ]
  },
  {
   "cell_type": "code",
   "execution_count": 18,
   "metadata": {},
   "outputs": [
    {
     "data": {
      "text/plain": [
       "array([0.48779808, 0.7430285 , 0.8583613 , 0.47066119])"
      ]
     },
     "execution_count": 18,
     "metadata": {},
     "output_type": "execute_result"
    }
   ],
   "source": [
    "aggregated_prediction"
   ]
  },
  {
   "cell_type": "code",
   "execution_count": 19,
   "metadata": {},
   "outputs": [],
   "source": [
    "# Generate Final Plan Using GPT-4o\n",
    "final_prompt = construct_prompt(new_query, agent_responses, aggregated_prediction)\n",
    "\n"
   ]
  },
  {
   "cell_type": "code",
   "execution_count": 20,
   "metadata": {},
   "outputs": [
    {
     "name": "stdout",
     "output_type": "stream",
     "text": [
      "\n",
      "    Original Query: \"Plan a luxury trip to Venice with a focus on art, history, and fine dining.\"\n",
      "\n",
      "    Agent Responses:\n",
      "    {\n",
      "  \"Weather Expert\": {\n",
      "    \"response\": \"Planning a luxury trip to Venice with an emphasis on art, history, and fine dining can truly be an unforgettable experience. Here's a suggested itinerary that covers these key interests:\\n\\n### Day 1: Arrival and Luxury Accommodation\\n**Morning:**\\n- **Accommodation**: Check into the **Aman Venice**, a stunning hotel located in the Palazzo Papadopoli. It offers opulent rooms and suites with views of the Grand Canal.\\n\\n**Afternoon:**\\n- **Relaxation**: Spend some time at the hotel spa to unwind after your journey.\\n\\n**Evening:**\\n- **Dinner**: Dine at **Ristorante Quadri**, a Michelin-starred restaurant overlooking Piazza San Marco, where you can enjoy exquisite Venetian cuisine and a fine selection of wines.\\n\\n### Day 2: Art and Architecture\\n**Morning:**\\n- **Art Tour**: Start your day at the **Gallerie dell'Accademia**, home to masterpieces by Bellini, Canaletto, and Titian. Opt for a private guided tour for a personalized experience.\\n\\n**Afternoon:**\\n- **Shopping and Exploration**: Walk along the Rialto Bridge and visit luxury boutiques. Have lunch at **Harry's Bar**, famous for its Bellini cocktails.\\n\\n**Evening:**\\n- **Dinner**: Experience a sumptuous meal at **Oro Restaurant** at the Hotel Cipriani, another Michelin-starred venue known for its creative Italian dishes.\\n\\n### Day 3: Historical Exploration\\n**Morning:**\\n- **Visit to St. Mark\\u2019s Basilica and Doge\\u2019s Palace**: Explore the history of Venice with a private guide, ensuring special access to hidden rooms and the Bridge of Sighs.\\n\\n**Afternoon:**\\n- **Lunch at Local Osteria**: Enjoy traditional Venetian dishes at **Osteria alle Testiere**, a small but renowned eatery known for its seafood.\\n\\n- **Artisan Experience**: Take a private Vaporetto to the island of Murano to witness glass-blowing artisans at work. Purchase exquisite glass pieces as souvenirs.\\n\\n**Evening:**\\n- **Private Gondola Ride**: Arrange for a private gondola tour with Prosecco service, allowing you to relax and see the city in a magical setting.\\n\\n- **Dinner**: Conclude your evening with dinner at **Antiche Carampane**, where a rustic ambiance meets refined Venetian cooking.\\n\\n### Day 4: Contemporary Art and Departure\\n**Morning:**\\n- **Contemporary Art**: Visit the **Peggy Guggenheim Collection**, which features an array of modern masterpieces. Consider booking a private tour to gain in-depth insights into the collection.\\n\\n**Afternoon:**\\n- **Lunch at Antico Martini**: An historic restaurant offering a refined atmosphere and traditional Venetian fare.\\n\\n- **Free Time for Last-minute Shopping**: Return to the hotel for a final break or spend some time shopping for luxury goods and artisanal crafts.\\n\\n**Evening:**\\n- **Farewell Dinner**: Enjoy a farewell dinner at the **Venissa Estate** on the island of Mazzorbo, accessible by private water taxi. The unique venue combines a Michelin-starred dining experience with stunning vineyard surroundings.\\n\\n**Departure**: Conclude your trip and prepare for departure, either by way of the Venice Marco Polo Airport or the Venice Santa Lucia Railway Station, both accessible by private water taxi.\\n\\nThis itinerary offers a balance of historical exploration, art immersion, and fine dining experiences, all wrapped in the luxury that Venice offers. Enjoy your trip!\",\n",
      "    \"raw_output\": [\n",
      "      0.4817652702331543,\n",
      "      0.7556650042533875,\n",
      "      0.8547929525375366,\n",
      "      0.4846508204936981\n",
      "    ]\n",
      "  },\n",
      "  \"Flight Advisor\": {\n",
      "    \"response\": \"Planning a luxury trip to Venice with an emphasis on art, history, and fine dining is an exciting endeavor. Venice, with its rich cultural heritage and exquisite culinary scene, offers a perfect setting for such a trip. Let's outline an itinerary that includes flights, accommodations, art and history experiences, and fine dining options.\\n\\n### Flights:\\n- **Departure City:** Depending on your location, look for a direct flight to Venice Marco Polo Airport (VCE). Major airlines such as Emirates, Qatar Airways, and Lufthansa offer premium services.\\n- **Travel Class:** Opt for Business or First Class for a more comfortable experience.\\n- **Transfer to City:** Arrange a private water taxi from the airport to your hotel for a stylish introduction to Venice.\\n\\n### Accommodations:\\n- **Belmond Hotel Cipriani**: Located on Giudecca Island, this luxury hotel is renowned for its opulent decor, excellent service, and stunning lagoon views.\\n- **Gritti Palace, a Luxury Collection Hotel**: Offers historical charm and a prime location on the Grand Canal, perfect for art and history enthusiasts.\\n\\n### Itinerary:\\n\\n#### Day 1: Arrival & Leisure\\n- **Check-In**: Arrive at your accommodation and settle in. Enjoy a welcome cocktail at the hotel bar.\\n- **Evening Stroll**: Explore St. Mark's Square and take in the early evening ambiance.\\n- **Dinner**: Reserve a table at Quadri, an elegant Michelin-starred restaurant located in the square itself.\\n\\n#### Day 2: Art and History Exploration\\n- **Morning**: Visit the Doge's Palace, a masterpiece of Gothic architecture that delves into the history of Venice.\\n- **Afternoon**: Head to the Peggy Guggenheim Collection, showcasing modern masterpieces in a palatial setting.\\n- **Evening**: Dinner at Osteria Da Fiore, which offers refined Venetian cuisine and high-end service.\\n\\n#### Day 3: Island Hopping and Fine Dining\\n- **Morning**: Take a private boat tour to Murano and Burano. Explore Murano's glass workshops and Burano's colorful houses.\\n- **Lunch**: Enjoy a seafood meal at Trattoria Al Gatto Nero on Burano.\\n- **Evening**: Return to Venice for dinner at Ristorante Quadri, known for its inventive dishes and Grand Canal views.\\n\\n#### Day 4: Architecture and Culture\\n- **Morning**: Explore the Basilica di San Marco, with its exquisite mosaics and history.\\n- **Afternoon**: Visit the Palazzo Grassi, a contemporary art museum housed in a stunning 18th-century building.\\n- **Evening**: Reserve a spot at Antiche Carampane for authentic Venetian fare in a charming setting.\\n\\n#### Day 5: Relaxation and Departure\\n- **Morning**: Spend your last morning at leisure. Consider a relaxing gondola ride through the canals.\\n- **Lunch**: Casual yet chic dining at Gelati Nico, where you can enjoy gelato along the Zattere promenade.\\n- **Departure**: Arrange your private transfer to Marco Polo Airport for your return flight.\\n\\n### Fine Dining and Additional Experiences:\\n- **Cooking Class**: Consider booking a private Venetian cooking class to learn about the region's culinary secrets.\\n- **Private Art Tour**: Hire a local art historian for a personalized tour of lesser-known art spots.\\n- **Spa Day**: Book a spa treatment at the JW Marriott Venice Spa on Isola delle Rose for a day of relaxation.\\n\\nWith this itinerary, you'll experience the best of Venice's art, history, and fine dining in a luxurious fashion. Make sure to reserve your dining and experience bookings in advance to secure your preferred time slots. Enjoy your opulent Venetian escape!\",\n",
      "    \"raw_output\": [\n",
      "      0.5093413591384888,\n",
      "      0.7651475667953491,\n",
      "      0.781417965888977,\n",
      "      0.46739479899406433\n",
      "    ]\n",
      "  },\n",
      "  \"Budget Planner\": {\n",
      "    \"response\": \"Certainly! Planning a luxury trip to Venice with a focus on art, history, and fine dining is an exciting venture. Below is a suggested itinerary along with a comprehensive budget guide to help you make the most of your luxurious experience.\\n\\n### Duration\\n7 days and 6 nights\\n\\n### Accommodation\\n- **Hotel:** The Gritti Palace, a Luxury Collection Hotel\\n  - **Location:** Grand Canal\\n  - **Cost:** Approximately \\u20ac1,000 per night\\n  - **Total for 6 nights:** \\u20ac6,000\\n\\n### Transportation\\n- **Flights:** Business class round trip from New York to Venice Marco Polo Airport\\n  - **Cost:** Approximately \\u20ac3,000 per person\\n\\n- **Transfers:** Private water taxi from Marco Polo Airport to the hotel\\n  - **Cost:** \\u20ac150 each way\\n  - **Total:** \\u20ac300\\n\\n- **Vaporetto (water bus) Pass:** 7-day pass for traveling around Venice\\n  - **Cost:** \\u20ac60 per person\\n\\n### Art and History Experiences\\n1. **Doges' Palace & St. Mark's Basilica Private Tour**\\n   - **Cost:** \\u20ac300 per person\\n\\n2. **Gallerie dell'Accademia Followed by a Guided Tour of Peggy Guggenheim Collection**\\n   - **Cost:** \\u20ac200 per person\\n\\n3. **Visit to Glass Workshop in Murano and Lace Making in Burano**\\n   - **Cost:** \\u20ac250 per person\\n\\n4. **Essence of Venice Walking Tour, including Rialto Market and Jewish Ghetto**\\n   - **Cost:** \\u20ac150 per person\\n\\n5. **Opera Night at Teatro La Fenice**\\n   - **Cost:** \\u20ac200 per person, premium seats\\n\\n### Fine Dining\\n1. **Ristorante Quadri (Michelin-starred)**\\n   - **Cost:** \\u20ac250 per person for a tasting menu with wine pairing\\n\\n2. **Da Fiore**\\n   - **Cost:** \\u20ac200 per person\\n\\n3. **Osteria Alle Testiere** (seafood focus)\\n   - **Cost:** \\u20ac150 per person\\n\\n4. **Enoteca Al Volto** (wine tasting and traditional cicchetti)\\n   - **Cost:** \\u20ac100 per person\\n\\n5. **Harry\\u2019s Bar**\\n   - **Cost:** \\u20ac150 per person, including signature Bellini cocktails\\n\\n### Additional Experiences\\n1. **Gondola Ride on the Grand Canal**\\n   - **Cost:** \\u20ac120 for a private 45-minute ride\\n\\n2. **Personal Shopping Experience & Mask Making Workshop**\\n   - **Cost:** \\u20ac300 per person\\n\\n### Miscellaneous Expenses\\n- **Luxury Travel Insurance:** \\u20ac200 per person\\n- **Daily Extras (souvenirs, tips):** \\u20ac500 total\\n- **Total Miscellaneous:** \\u20ac700\\n\\n### Total Estimated Budget\\n- **Accommodation:** \\u20ac6,000\\n- **Transportation (flight, transfers, vaporetto):** \\u20ac3,360\\n- **Art and History Experiences:** \\u20ac1,100 per person\\n- **Fine Dining:** \\u20ac850 per person\\n- **Additional Experiences:** \\u20ac420\\n- **Miscellaneous:** \\u20ac700\\n\\n**Grand Total for One Person: Approximately \\u20ac12,430**\\n\\n### Recommendations\\n- **Time of Travel:** Late spring or early autumn for pleasant weather and fewer crowds.\\n- **Booking Details:** Reserve opera tickets and restaurant bookings well in advance to ensure availability.\\n- **Travel Insurance:** Strongly recommended for coverage in any unforeseen circumstances.\\n\\nThis comprehensive budget and plan will ensure a richly indulgent experience, immersing you in Venice's art, history, and culinary elegance. Enjoy your trip!\",\n",
      "    \"raw_output\": [\n",
      "      0.5029959678649902,\n",
      "      0.7258670926094055,\n",
      "      0.834435224533081,\n",
      "      0.4325803518295288\n",
      "    ]\n",
      "  },\n",
      "  \"Sightseeing Guide\": {\n",
      "    \"response\": \"Planning a luxury trip to Venice with an emphasis on art, history, and fine dining is a magnificent endeavor, as the city offers a rich tapestry of experiences. Here is an itinerary that encapsulates the best of these interests:\\n\\n**Day 1: Arrival and Introduction to Venice**\\n- **Accommodation**: Check into **Aman Venice**, a stunning 16th-century palazzo on the Grand Canal known for its opulent rooms and private gardens.\\n- **Art Viewing**: Start with a visit to the **Gallerie dell\\u2019Accademia**, home to pre-19th-century masterpieces from painters like Bellini, Titian, and Veronese.\\n- **Dinner**: Dine at **Quadri**, a Michelin-starred restaurant in St. Mark\\u2019s Square offering exquisite Venetian cuisine with stunning views of the Piazza.\\n\\n**Day 2: Exploring Venetian History**\\n- **Morning**: Take a private guided tour of **Doge\\u2019s Palace**. Experience the grandeur of the palace and the rich history of Venice\\u2019s political heart.\\n- **Lunch**: Enjoy a luxurious lunch at **Ristorante Carpacccio** at the Hotel Danieli, noted for its Venetian and Italian specialties.\\n- **Afternoon**: Visit the **Correr Museum** to explore more of Venice's heritage, from aristocratic life to the naval history.\\n- **Evening**: Have dinner at **Ristorante Quadri**, another Michelin-starred location, renowned for its contemporary take on Italian classics.\\n\\n**Day 3: Contemporary and Renaissance Art**\\n- **Morning**: Head to the **Peggy Guggenheim Collection**, set in the heiress's former home on the Grand Canal. Marvel at the 20th-century pieces from Dal\\u00ed, Picasso, and Pollock.\\n- **Lunch**: Stop by the charming **Corte Sconta**, a hidden gem known for its exceptional seafood dishes.\\n- **Afternoon**: Explore the **Scuola Grande di San Rocco** to see a breathtaking collection of Tintoretto paintings.\\n- **Evening**: Dinner at **Ristorante Alle Corone**, where you can enjoy a gourmet experience featuring seasonal and elegant Venetian cuisine.\\n\\n**Day 4: Murano and Burano**\\n- **Day Trip**: Take a private water taxi tour to the islands of **Murano** and **Burano**. Marvel at Murano\\u2019s glassmaking artistry and Burano\\u2019s vibrant lacework and colorful houses.\\n- **Lunch**: Enjoy seafood at **Al Gatto Nero** on Burano, famous for its fresh and traditional dishes.\\n- **Return**: Head back to Venice for a relaxing evening.\\n- **Dinner**: End your trip with an indulgent meal at **Osteria Francescana** by the Rialto, celebrated for innovative menus that blend tradition with modern flair.\\n\\n**Day 5: Departure**\\n- **Morning**: Take a leisurely gondola ride through the lesser-known canals for a quiet farewell to Venice.\\n- **Farewell Brunch**: Enjoy a brunch at the **Hotel Cipriani's Cip's Club**, offering spectacular views of the cityscape from the Giudecca.\\n\\nThroughout your stay, consider hiring private guides for deeper insights into Venice\\u2019s artistic treasures and history, ensuring a comprehensive and personal understanding of the city\\u2019s wonders. Be sure to make reservations well in advance, as these luxurious experiences are highly sought after.\",\n",
      "    \"raw_output\": [\n",
      "      0.44214075803756714,\n",
      "      0.7395002841949463,\n",
      "      0.8984808921813965,\n",
      "      0.49548396468162537\n",
      "    ]\n",
      "  },\n",
      "  \"Accommodation Expert\": {\n",
      "    \"response\": \"Planning a luxury trip to Venice with a focus on art, history, and fine dining promises a memorable experience. Here's a suggested itinerary:\\n\\n### Accommodation:\\n- **Aman Venice**\\n  - Housed in a grand 16th-century palazzo, this hotel exudes luxury with its frescoed interiors, beautiful gardens, and views of the Grand Canal. \\n  - Consider booking one of their suites for added elegance and comfort.\\n\\n### Day 1: Arrival and Introduction to Venetian Art\\n- **Morning:** Arrive at the Marco Polo Airport and take a private water taxi to your hotel to enjoy the magical arrival directly on the canal.\\n- **Afternoon:** \\n  - **Peggy Guggenheim Collection**: This is one of Europe's most prestigious museums for modern art. Explore works by Picasso, Pollock, and Dal\\u00ed.\\n- **Evening:**\\n  - **Dinner at Ristorante Quadri**: Located in Piazza San Marco, this Michelin-starred restaurant offers a contemporary take on traditional Venetian recipes.\\n\\n### Day 2: History and Heritage\\n- **Morning:**\\n  - **Doge\\u2019s Palace and Basilica di San Marco**: Explore these iconic landmarks on a private guided tour to delve deep into Venetian history and art.\\n- **Lunch:** \\n  - **Caff\\u00e8 Florian**: Savor a light lunch or coffee at one of the oldest and most famous cafes in Europe, in the stunning setting of Piazza San Marco.\\n- **Afternoon:**\\n  - **Gallerie dell'Accademia**: Home to an exceptional collection of Venetian painting, from the Byzantine period to the 18th century.\\n- **Evening:**\\n  - **Dinner at Oro Restaurant** at Belmond Hotel Cipriani: Enjoy fine dining in a spectacular setting with views across the lagoon.\\n\\n### Day 3: Exploring Beyond the Typical\\n- **Morning:**\\n  - **Island of Murano**: Take a private boat tour to the island known for its glass-making traditions. Visit a glass factory to see artisans at work.\\n- **Lunch:**\\n  - **Trattoria alla Madonna**: Return to the main islands for a classic Venetian lunch with seafood specialties.\\n- **Afternoon:**\\n  - **Venetian Artisans Tour**: Engage in a personalized tour of Venetian crafts, including mask makers and textile weavers.\\n- **Evening:**\\n  - **Dinner at Antiche Carampane**: Hidden in the heart of Venice, this restaurant offers an authentic and upscale take on local dishes.\\n\\n### Day 4: Culinary Exploration and Relaxation\\n- **Morning:**\\n  - **Rialto Market Tour and Cooking Class**: Start your day with a private guided tour of the famous Rialto Market and follow this with a cooking class to learn how to prepare Venetian dishes.\\n- **Lunch:** Enjoy the meal you've prepared during the class.\\n- **Afternoon:**\\n  - **Relax and Rejuvenate**: Return to your hotel for a relaxing afternoon at the spa, or enjoy a private gondola ride.\\n- **Evening:**\\n  - **Dinner at Il Ridotto**: This one-Michelin-star restaurant takes pride in its creative approach to local ingredients.\\n\\n### Day 5: Departure\\n- **Morning:** Depending on your flight time, enjoy a leisurely breakfast at the hotel and perhaps a final stroll through the enchanting streets of Venice.\\n- **Transfer:** Take a private water taxi back to Marco Polo Airport for your departure.\\n\\n### Tips:\\n- **Book in Advance:** Luxury accommodations and fine dining spots in Venice fill up quickly, so make sure to book everything in advance.\\n- **Local Guides:** Consider hiring private guides for a more personalized experience, giving you deeper insights into the art and history of Venice.\\n- **Dress Code:** Some fine dining restaurants in Venice have a dress code, so pack accordingly.\\n\\nEnjoy your luxurious journey through Venice, enriched with art, history, and culinary delights!\",\n",
      "    \"raw_output\": [\n",
      "      0.47792354226112366,\n",
      "      0.7129620909690857,\n",
      "      0.821101188659668,\n",
      "      0.44961416721343994\n",
      "    ]\n",
      "  },\n",
      "  \"Dining Consultant\": {\n",
      "    \"response\": \"Planning a luxury trip to Venice with a focus on art, history, and fine dining promises an unforgettable experience in one of the world\\u2019s most captivating cities. Here's a curated itinerary to ensure you experience the best Venice has to offer:\\n\\n### Day 1: Arrival and Introduction to Venice\\n- **Morning:**\\n  - **Arrive at Marco Polo Airport** and take a private water taxi to your hotel. Recommended luxury accommodations include **Aman Venice** or **The Gritti Palace**, both offering opulent settings and prime locations.\\n- **Afternoon:**\\n  - **Lunch:** Dine at **Ristorante Quadri**, overlooking Piazza San Marco, for a taste of Venetian and international cuisine.\\n  - **Activity:** Begin with a private guided tour of **St. Mark\\u2019s Basilica** and the **Doge\\u2019s Palace**. This tour will give you insight into the rich history of Venice\\u2019s architecture and political past.\\n- **Evening:**\\n  - **Dinner:** Savor a Venetian fine dining experience at **Oro Restaurant** inside the iconic Belmond Hotel Cipriani.\\n  - **Relaxation:** Enjoy a peaceful gondola ride at sunset through the historic canals of Venice.\\n\\n### Day 2: Art and Culture Exploration\\n- **Morning:**\\n  - **Activity:** Visit the **Peggy Guggenheim Collection** to see masterpieces of modern art featuring works by Picasso, Dal\\u00ed, and Pollock.\\n  - **Lunch:** Head to **Antiche Carampane**, known for its fresh seafood and traditional Venetian dishes.\\n- **Afternoon:**\\n  - **Activity:** Explore the **Gallerie dell'Accademia**, home to Venetian paintings from the 14th to 18th centuries.\\n  - **Shopping:** Stroll through the upscale boutiques around Piazza San Marco or visit **Calle Larga XXII Marzo** for luxury fashion.\\n- **Evening:**\\n  - **Dinner:** Experience a taste of Michelin-starred excellence at **Quadri** with a menu designed by Max Alajmo.\\n  - **Nightcap:** Enjoy a cocktail or glass of wine at the elegant rooftop bar, **Terrazza Danieli**, offering breathtaking views of Venice.\\n\\n### Day 3: Historical Discoveries and Island Excursion\\n- **Morning:**\\n  - **Activity:** Take a private boat tour to the nearby islands of **Murano and Burano**. Discover Murano\\u2019s renowned glassmaking workshops and the colorful charm of Burano\\u2019s fisherman\\u2019s houses.\\n- **Lunch:** Dine at **Venissa** on the island of Mazzorbo for a unique culinary experience that embraces farm-to-table philosophy.\\n- **Afternoon:**\\n  - **Activity:** Return to Venice and visit the **Frari Church**, home to masterpieces by Titian and Bellini. For a different perspective, sip coffee in peace at **Caff\\u00e8 Florian**, one of the oldest cafes in the world.\\n- **Evening:**\\n  - **Dinner:** Enjoy a romantic dinner at **Ristorante Glam**, where Chef Enrico Bartolini offers a modern take on Venetian traditions within a 2-star Michelin framework.\\n  - **Entertainment:** Attend an opera or classical concert at **La Fenice Opera House**, an iconic symbol of Venice\\u2019s rich musical heritage.\\n\\n### Day 4: Departure and Leisure\\n- **Morning:**\\n  - **Activity:** Spend the morning at **Punta della Dogana**, the contemporary art space of the Fran\\u00e7ois Pinault Foundation.\\n- **Lunch:** Enjoy a leisurely lunch at **Corte Sconta**, celebrated for its seafood antipasti in a charming vine-covered courtyard.\\n- **Afternoon:**\\n  - **Leisure:** Relax with a final stroll or a private shopping experience led by a personal shopper.\\n- **Departure:**\\n  - Return to the airport via private water taxi, forever enchanted by the city of Venice.\\n\\nThis itinerary balances art, history, and luxury dining, offering a sumptuous and culturally rich Venetian experience. Advance reservations, especially for dining and guided tours, are highly recommended to ensure a seamless and indulgent journey.\",\n",
      "    \"raw_output\": [\n",
      "      0.4586394429206848,\n",
      "      0.7451794147491455,\n",
      "      0.878017783164978,\n",
      "      0.5120786428451538\n",
      "    ]\n",
      "  }\n",
      "}\n",
      "\n",
      "    Aggregated Predictions (Scaled 0-1):\n",
      "    - Budget Fit: 0.49\n",
      "    - Duration Suitability: 0.74\n",
      "    - Cultural Relevance: 0.86\n",
      "    - Comfort Level: 0.47\n",
      "\n",
      "    Generate a comprehensive plan that addresses these points and refine the travel plan accordingly.\n",
      "    \n"
     ]
    }
   ],
   "source": [
    "print(final_prompt)"
   ]
  },
  {
   "cell_type": "code",
   "execution_count": 21,
   "metadata": {},
   "outputs": [],
   "source": [
    "final_response = client.chat.completions.create(\n",
    "        model=\"gpt-4o\",\n",
    "        messages=[\n",
    "            {\"role\": \"system\", \"content\": \"You are an expert travel planner.\"},\n",
    "            {\"role\": \"user\", \"content\": final_prompt}\n",
    "        ]\n",
    "    )\n"
   ]
  },
  {
   "cell_type": "code",
   "execution_count": 22,
   "metadata": {},
   "outputs": [
    {
     "name": "stdout",
     "output_type": "stream",
     "text": [
      "Planning a luxury trip to Venice with a focus on art, history, and fine dining ensures a captivating and enriching experience. Here's a refined comprehensive plan considering each aspect of your luxurious journey:\n",
      "\n",
      "### Duration and Overview:\n",
      "- **Total Duration**: 5 days and 4 nights\n",
      "- **Timing**: Late spring or early autumn, when the weather is pleasant, and tourist crowds are less intense.\n",
      "- **Accommodation**: Luxury, comfort, and cultural relevance are priorities.\n",
      "- **Budget**: High-end; recommendations will consider premium options.\n",
      "\n",
      "### Day 1: Arrival and Venetian Introduction\n",
      "- **Accommodation**: Check into **Aman Venice** for unparalleled luxury and historical charm, or **The Gritti Palace** for a mix of opulence and tradition.\n",
      "- **Morning**: Arrive at Marco Polo Airport. Transfer via private water taxi to your hotel for a grand introduction to the city.\n",
      "- **Afternoon**: Visit the **Peggy Guggenheim Collection** to see iconic modern artworks in a palatial setting.\n",
      "- **Evening**: Enjoy dinner at **Ristorante Quadri**, a Michelin-starred restaurant in Piazza San Marco. Explore Venice’s historical hub with a guided evening walk or a gondola ride.\n",
      "\n",
      "### Day 2: Historical and Artistic Exploration\n",
      "- **Morning**: Take a private guided tour of the **Doge’s Palace** and **St. Mark’s Basilica**. Access to hidden chambers for a deep dive into Venetian history.\n",
      "- **Lunch**: Dine at **Caffè Florian** for an iconic Venetian culinary tradition.\n",
      "- **Afternoon**: Explore **Gallerie dell'Accademia** featuring masterpieces by Venetian masters like Bellini and Titian.\n",
      "- **Evening**: Dinner at **Oro Restaurant** at the Belmond Hotel Cipriani, offering stunning lagoon views and exquisite dining.\n",
      "\n",
      "### Day 3: Island Retreat and Cultural Immersion\n",
      "- **Full-day Excursion**: Visit **Murano** and **Burano** by private boat.\n",
      "  - **Murano**: Explore glassmaking workshops.\n",
      "  - **Burano**: Experience vibrant street life and lace-making traditions.\n",
      "- **Lunch**: Enjoy a seafood feast at **Al Gatto Nero** on Burano.\n",
      "- **Evening**: Return to Venice for dinner at **Antiche Carampane**, an authentic spot preferred by locals for its refined Venetian dishes. \n",
      "\n",
      "### Day 4: Fine Dining and Final Exploration\n",
      "- **Morning**: Experience **Rialto Market** and take a cooking class, learning how to prepare Venetian classics.\n",
      "- **Lunch**: Enjoy your culinary creations in a local private dining room.\n",
      "- **Afternoon**: Relax at your hotel’s spa or have leisure time for high-end shopping.\n",
      "- **Evening**: Diner at **Ristorante Glam**, celebrated for its innovative Michelin-star menus by Chef Enrico Bartolini.\n",
      "- **Nightcap and Views**: Enjoy a final drink at **Terrazza Danieli**, with panoramic views of Venice.\n",
      "\n",
      "### Day 5: Departure\n",
      "- **Morning**: Leisurely breakfast at your hotel. Option for a final gondola ride or exploration of lesser-known canals.\n",
      "- **Late Morning**: Depart from Venice via private water taxi to Marco Polo Airport.\n",
      "\n",
      "### Additional Recommendations:\n",
      "- **Guides and Tours**: Book private guides for an enriched storytelling experience, providing insights beyond public tours.\n",
      "- **Reservations**: Secure all dining and tour bookings well in advance to ensure availability, especially during peak seasons.\n",
      "- **Insurance and Travel Tips**: Opt for comprehensive travel insurance covering high-value experiences, and be mindful of any dress codes at fine dining restaurants.\n",
      "\n",
      "This plan offers an indulgent experience of Venice's rich culture, history, and culinary excellence—a perfect blend for the discerning luxury traveler. Enjoy an unforgettable journey in one of the world’s most romantic cities.\n"
     ]
    }
   ],
   "source": [
    "print(final_response.choices[0].message.content)"
   ]
  },
  {
   "cell_type": "code",
   "execution_count": null,
   "metadata": {},
   "outputs": [],
   "source": []
  },
  {
   "cell_type": "code",
   "execution_count": null,
   "metadata": {},
   "outputs": [],
   "source": []
  }
 ],
 "metadata": {
  "kernelspec": {
   "display_name": "venv",
   "language": "python",
   "name": "python3"
  },
  "language_info": {
   "codemirror_mode": {
    "name": "ipython",
    "version": 3
   },
   "file_extension": ".py",
   "mimetype": "text/x-python",
   "name": "python",
   "nbconvert_exporter": "python",
   "pygments_lexer": "ipython3",
   "version": "3.9.10"
  }
 },
 "nbformat": 4,
 "nbformat_minor": 2
}
